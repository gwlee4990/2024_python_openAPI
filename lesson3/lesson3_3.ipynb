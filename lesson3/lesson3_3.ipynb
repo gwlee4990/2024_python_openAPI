{
 "cells": [
  {
   "cell_type": "code",
   "execution_count": 1,
   "metadata": {},
   "outputs": [
    {
     "name": "stdout",
     "output_type": "stream",
     "text": [
      "半徑: 20.0 公分,圓面積: 1256.6370614359173 平方公分\n"
     ]
    }
   ],
   "source": [
    "import math\n",
    "\n",
    "radius = float(input(\"請輸入半徑:\"))\n",
    "area = math.pi * radius ** 2\n",
    "print(\"半徑:\",radius,\"公分,圓面積:\",area,\"平方公分\")"
   ]
  },
  {
   "cell_type": "code",
   "execution_count": 2,
   "metadata": {},
   "outputs": [
    {
     "name": "stdout",
     "output_type": "stream",
     "text": [
      "圓周率: 3.14159 角度為: 180\n"
     ]
    }
   ],
   "source": [
    "pi = float(input(\"請輸入圓周率:\"))\n",
    "degree = math.degrees(pi)\n",
    "print(\"圓周率:\",pi,\"角度為:\",round(degree))"
   ]
  }
 ],
 "metadata": {
  "kernelspec": {
   "display_name": "Python 3",
   "language": "python",
   "name": "python3"
  },
  "language_info": {
   "codemirror_mode": {
    "name": "ipython",
    "version": 3
   },
   "file_extension": ".py",
   "mimetype": "text/x-python",
   "name": "python",
   "nbconvert_exporter": "python",
   "pygments_lexer": "ipython3",
   "version": "3.10.8"
  }
 },
 "nbformat": 4,
 "nbformat_minor": 2
}
