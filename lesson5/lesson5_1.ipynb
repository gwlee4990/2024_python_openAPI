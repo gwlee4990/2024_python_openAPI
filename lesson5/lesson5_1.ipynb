{
 "cells": [
  {
   "cell_type": "code",
   "execution_count": 2,
   "metadata": {},
   "outputs": [
    {
     "name": "stdout",
     "output_type": "stream",
     "text": [
      "1~100的加總是: 5050\n"
     ]
    }
   ],
   "source": [
    "#1~100 的加總\n",
    "\n",
    "value=1\n",
    "tatal=0\n",
    "while value <=100:\n",
    "    tatal += value\n",
    "    value +=1\n",
    "print (\"1~100的加總是:\", tatal)"
   ]
  }
 ],
 "metadata": {
  "kernelspec": {
   "display_name": "Python 3",
   "language": "python",
   "name": "python3"
  },
  "language_info": {
   "codemirror_mode": {
    "name": "ipython",
    "version": 3
   },
   "file_extension": ".py",
   "mimetype": "text/x-python",
   "name": "python",
   "nbconvert_exporter": "python",
   "pygments_lexer": "ipython3",
   "version": "3.10.8"
  }
 },
 "nbformat": 4,
 "nbformat_minor": 2
}
