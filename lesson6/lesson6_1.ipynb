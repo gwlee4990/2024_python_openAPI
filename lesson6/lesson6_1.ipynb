{
 "cells": [
  {
   "cell_type": "code",
   "execution_count": null,
   "metadata": {},
   "outputs": [],
   "source": [
    "def BMI(height_box,weight_box):\n",
    "    bmi = weight_box / (height_box / 100) ** 2\n",
    "    return bmi"
   ]
  }
 ],
 "metadata": {
  "language_info": {
   "name": "python"
  }
 },
 "nbformat": 4,
 "nbformat_minor": 2
}
