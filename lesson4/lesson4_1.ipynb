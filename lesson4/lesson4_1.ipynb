{
 "cells": [
  {
   "cell_type": "code",
   "execution_count": 3,
   "metadata": {},
   "outputs": [
    {
     "name": "stdout",
     "output_type": "stream",
     "text": [
      "可以投票\n",
      "成年人\n"
     ]
    }
   ],
   "source": [
    "age = int(input(\"請輸入age:\"))\n",
    "if age >= 18:\n",
    "    print(\"可以投票\")\n",
    "    print(\"成年人\")\n",
    "else:\n",
    "    print(\"不可以投票\")\n",
    "    print(\"未成年\")"
   ]
  },
  {
   "cell_type": "code",
   "execution_count": 7,
   "metadata": {},
   "outputs": [
    {
     "name": "stdout",
     "output_type": "stream",
     "text": [
      "315\n"
     ]
    }
   ],
   "source": [
    "#學生總分為300\n",
    "#有些學生可以加分5%\n",
    "\n",
    "scores = int(input(\"請輸入學生分數(最高300):\"))\n",
    "is_add = input(\"學生是否符合加分條件?(y,n):\")\n",
    "if(is_add==\"y\"):\n",
    "    scores *= 1.05\n",
    "\n",
    "print(round(scores))"
   ]
  },
  {
   "cell_type": "code",
   "execution_count": 9,
   "metadata": {},
   "outputs": [
    {
     "name": "stdout",
     "output_type": "stream",
     "text": [
      "300\n"
     ]
    }
   ],
   "source": [
    "#學生總分為300\n",
    "#有些學生可以加分5%\n",
    "#如果加分超過300,就以300分為準\n",
    "\n",
    "scores = int(input(\"請輸入學生分數(最高300):\"))\n",
    "is_add = input(\"學生是否符合加分條件?(y,n):\")\n",
    "if(is_add==\"y\"):\n",
    "    scores *= 1.05\n",
    "    if  scores > 300:\n",
    "        scores = 300\n",
    "    \n",
    "\n",
    "print(round(scores))"
   ]
  },
  {
   "cell_type": "code",
   "execution_count": 13,
   "metadata": {},
   "outputs": [
    {
     "name": "stdout",
     "output_type": "stream",
     "text": [
      "300\n"
     ]
    }
   ],
   "source": [
    "#學生總分為300\n",
    "#檢查必需300分以內\n",
    "#有些學生可以加分5%\n",
    "#如果加分超過300,就以300分為準\n",
    "\n",
    "scores = int(input(\"請輸入學生分數(最高300):\"))\n",
    "if scores<=300:\n",
    "    is_add = input(\"學生是否符合加分條件?(y,n):\")\n",
    "    if(is_add==\"y\"):\n",
    "        scores *= 1.05\n",
    "        if  scores > 300:\n",
    "            scores = 300\n",
    "    print(round(scores))\n",
    "else:\n",
    "    print(\"輸入錯誤!\")\n",
    "    \n",
    "\n"
   ]
  },
  {
   "cell_type": "code",
   "execution_count": 19,
   "metadata": {},
   "outputs": [
    {
     "name": "stdout",
     "output_type": "stream",
     "text": [
      "輸入錯誤!\n"
     ]
    }
   ],
   "source": [
    "#學生總分為300\n",
    "#檢查必須300分以內, 0分以上\n",
    "#檢查必需300分以內\n",
    "#有些學生可以加分5%\n",
    "#如果加分超過300,就以300分為準\n",
    "\n",
    "scores = int(input(\"請輸入學生分數(最高300):\"))\n",
    "if scores<=300 and scores>=0:\n",
    "    is_add = input(\"學生是否符合加分條件?(y,n):\")\n",
    "    if(is_add==\"y\"):\n",
    "        scores *= 1.05\n",
    "        if  scores > 300:\n",
    "            scores = 300\n",
    "    print(round(scores))\n",
    "else:\n",
    "    print(\"輸入錯誤!\")"
   ]
  },
  {
   "cell_type": "code",
   "execution_count": 23,
   "metadata": {},
   "outputs": [
    {
     "name": "stdout",
     "output_type": "stream",
     "text": [
      "50\n"
     ]
    }
   ],
   "source": [
    "#學生總分為300\n",
    "#檢查必須300分以內, 0分以上\n",
    "#檢查必需300分以內\n",
    "#有些學生可以加分5%\n",
    "#如果加分超過300,就以300分為準\n",
    "\n",
    "try:\n",
    "    scores = int(input(\"請輸入學生分數(最高300):\"))\n",
    "    if scores<=300 and scores>=0:\n",
    "        is_add = input(\"學生是否符合加分條件?(y,n):\")\n",
    "        if(is_add==\"y\"):\n",
    "            scores *= 1.05\n",
    "            if  scores > 300:\n",
    "                scores = 300\n",
    "        print(round(scores))\n",
    "    else:\n",
    "        print(\"輸入錯誤!\")\n",
    "except:\n",
    "    print(\"請輸入數字!\")\n",
    "    \n"
   ]
  },
  {
   "cell_type": "code",
   "execution_count": 15,
   "metadata": {},
   "outputs": [
    {
     "name": "stdout",
     "output_type": "stream",
     "text": [
      "成功\n"
     ]
    }
   ],
   "source": [
    "distance = float(input(\"請輸入投射距離:\"))\n",
    "#巢狀判斷\n",
    "if distance >= 80:\n",
    "    if distance <= 100:\n",
    "        print(\"成功\")\n",
    "    else:\n",
    "        print(\"失敗\")\n",
    "else:\n",
    "    print(\"失敗\")"
   ]
  },
  {
   "cell_type": "code",
   "execution_count": null,
   "metadata": {},
   "outputs": [],
   "source": [
    "distance = float(input(\"請輸入投射距離:\"))\n",
    "#邏輯運算子\n",
    "if distance >= 80 and distance <= 100:\n",
    "    print(\"成功\")\n",
    "else:\n",
    "    print(\"失敗\")"
   ]
  },
  {
   "cell_type": "code",
   "execution_count": 24,
   "metadata": {},
   "outputs": [
    {
     "name": "stdout",
     "output_type": "stream",
     "text": [
      "成功\n"
     ]
    }
   ],
   "source": [
    "distance = float (input(\"請輸入投射距離\"))\n",
    "if distance < 80 or distance > 100:\n",
    "    print(\"成功\")\n",
    "else:\n",
    "    print(\"失敗\")"
   ]
  },
  {
   "cell_type": "code",
   "execution_count": 2,
   "metadata": {},
   "outputs": [
    {
     "name": "stdout",
     "output_type": "stream",
     "text": [
      "您的BMI值為: 19.8\n",
      "您的BMI正常\n"
     ]
    }
   ],
   "source": [
    "try:    \n",
    "    height = float(input(\"請輸入身高(公分):\"))\n",
    "    weight = float(input(\"請輸入體重(公斤):\"))\n",
    "    BMI= float (weight/(height/100)**2)\n",
    "\n",
    "except:\n",
    "     print (\"輸入格式錯誤\")\n",
    "\n",
    "else:\n",
    "    print (\"您的BMI值為:\", round(BMI, ndigits=1))\n",
    " \n",
    "    if BMI >= 18.5 and BMI <= 24:\n",
    "        print(\"您的BMI正常\")\n",
    "    else:\n",
    "        print (\"您的BMI異常\")\n",
    "        if BMI < 18.5:\n",
    "            print (\"體重過輕\")\n",
    "        if BMI >=24 and BMI <27:\n",
    "            print (\"體重過重\")\n",
    "        if BMI >=27 and BMI <30:\n",
    "            print (\"輕度肥胖\")\n",
    "        if BMI >=30 and BMI <35:\n",
    "            print (\"中度肥胖\")\n",
    "        if BMI >=35:\n",
    "            print (\"重度肥胖\")  \n",
    "\n",
    "\n",
    "\n"
   ]
  }
 ],
 "metadata": {
  "kernelspec": {
   "display_name": "Python 3",
   "language": "python",
   "name": "python3"
  },
  "language_info": {
   "codemirror_mode": {
    "name": "ipython",
    "version": 3
   },
   "file_extension": ".py",
   "mimetype": "text/x-python",
   "name": "python",
   "nbconvert_exporter": "python",
   "pygments_lexer": "ipython3",
   "version": "3.10.8"
  }
 },
 "nbformat": 4,
 "nbformat_minor": 2
}
